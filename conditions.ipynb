{
 "cells": [
  {
   "attachments": {},
   "cell_type": "markdown",
   "metadata": {},
   "source": [
    "# Conditions\n",
    "\n",
    "if,\n",
    "if else,,\n",
    "nested if,\n",
    "if elif else,\n",
    " match\n"
   ]
  },
  {
   "cell_type": "code",
   "execution_count": 7,
   "metadata": {},
   "outputs": [
    {
     "name": "stdout",
     "output_type": "stream",
     "text": [
      "you are going to run this part\n",
      "you are going to see this also\n",
      "Count is even\n"
     ]
    }
   ],
   "source": [
    "count = int(input(\"Enter a value:\"))\n",
    "if count>5:\n",
    "    print(\"you are going to run this part\")\n",
    "if count>15:\n",
    "    print(\"you are going to see this also\")\n",
    "if count%2==0:\n",
    "    print(\"Count is even\")"
   ]
  },
  {
   "attachments": {},
   "cell_type": "markdown",
   "metadata": {},
   "source": [
    "# multiple conditions in an if statement\n"
   ]
  },
  {
   "cell_type": "code",
   "execution_count": 5,
   "metadata": {},
   "outputs": [
    {
     "name": "stdout",
     "output_type": "stream",
     "text": [
      "c=13 is greater\n"
     ]
    }
   ],
   "source": [
    "a=10\n",
    "b=5\n",
    "c=13\n",
    "\n",
    "if a>b and a>c:\n",
    "    print(f'{a=} is greater')\n",
    "if b > c and b > a:\n",
    "    print(f'{b=} is greater')\n",
    "if c > a and c > b:\n",
    "    print(f'{c=} is greater')\n",
    "\n",
    "\n"
   ]
  },
  {
   "cell_type": "code",
   "execution_count": 6,
   "metadata": {},
   "outputs": [
    {
     "name": "stdout",
     "output_type": "stream",
     "text": [
      "c=13 is greater\n"
     ]
    }
   ],
   "source": [
    "if a > b and a > c:\n",
    "    print(f'{a=} is greater')\n",
    "elif b > c and b > a:\n",
    "    print(f'{b=} is greater')\n",
    "else:\n",
    "    print(f'{c=} is greater')"
   ]
  },
  {
   "attachments": {},
   "cell_type": "markdown",
   "metadata": {},
   "source": [
    "# nested if"
   ]
  },
  {
   "cell_type": "code",
   "execution_count": 14,
   "metadata": {},
   "outputs": [
    {
     "name": "stdout",
     "output_type": "stream",
     "text": [
      "Username is invalid\n"
     ]
    }
   ],
   "source": [
    "username = input(\"Enter your name\")\n",
    "email = input(\"Enter your mail\")\n",
    "pwd = input(\"Enter new password\")\n",
    "pwd2 = input(\"Confirm your password\")\n",
    "\n",
    "if len(username) >= 4 and len(username) <= 15:\n",
    "    if '@' in email and email.islower() and len(email) > 10:\n",
    "        if len(pwd) >=6 and pwd != username:\n",
    "            if pwd == pwd2:\n",
    "                print(\"hurray 👊\")\n",
    "            else:\n",
    "                print(\"Passwords do not match 😡\")\n",
    "        else:\n",
    "            print(\"Password is incorrect 😡\")\n",
    "    else:\n",
    "        print(\"Email is invalid\")\n",
    "else:\n",
    "    print(\"Username is invalid\")"
   ]
  },
  {
   "cell_type": "code",
   "execution_count": null,
   "metadata": {},
   "outputs": [],
   "source": []
  }
 ],
 "metadata": {
  "kernelspec": {
   "display_name": "base",
   "language": "python",
   "name": "python3"
  },
  "language_info": {
   "codemirror_mode": {
    "name": "ipython",
    "version": 3
   },
   "file_extension": ".py",
   "mimetype": "text/x-python",
   "name": "python",
   "nbconvert_exporter": "python",
   "pygments_lexer": "ipython3",
   "version": "3.10.8"
  },
  "orig_nbformat": 4,
  "vscode": {
   "interpreter": {
    "hash": "324500810f1b16834aa1bf87032153753ee365449c3fdfc2dea88bf378834d1a"
   }
  }
 },
 "nbformat": 4,
 "nbformat_minor": 2
}
