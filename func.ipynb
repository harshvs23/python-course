{
 "cells": [
  {
   "attachments": {},
   "cell_type": "markdown",
   "metadata": {},
   "source": [
    "syntax for defining\n",
    "```\n",
    "\n",
    "def fun_name(<params...>):\n",
    "    satement 1\n",
    "    statement 2\n",
    "    ...\n",
    "    statement n\n",
    "    <retuen value...>\n",
    "\n",
    "    calling a function\n",
    "    fun_name(<params...>)\n",
    "```\n"
   ]
  },
  {
   "cell_type": "code",
   "execution_count": 4,
   "metadata": {},
   "outputs": [
    {
     "name": "stdout",
     "output_type": "stream",
     "text": [
      "welcome to the function\n",
      "hope you are happy\n",
      "have a nice day\n"
     ]
    }
   ],
   "source": [
    "def greetings():\n",
    "    print('welcome to the function')\n",
    "    print('hope you are happy')\n",
    "    print('have a nice day')\n",
    "greetings()"
   ]
  },
  {
   "cell_type": "code",
   "execution_count": 5,
   "metadata": {},
   "outputs": [
    {
     "name": "stdout",
     "output_type": "stream",
     "text": [
      "welcome to the function\n",
      "hope you are happy\n",
      "have a nice day\n"
     ]
    }
   ],
   "source": [
    "greetings()"
   ]
  },
  {
   "cell_type": "code",
   "execution_count": 6,
   "metadata": {},
   "outputs": [
    {
     "name": "stdout",
     "output_type": "stream",
     "text": [
      "welcome to the function\n",
      "hope you are happy\n",
      "have a nice day\n",
      "welcome to the function\n",
      "hope you are happy\n",
      "have a nice day\n"
     ]
    }
   ],
   "source": [
    "greetings()\n",
    "greetings()"
   ]
  },
  {
   "cell_type": "code",
   "execution_count": 7,
   "metadata": {},
   "outputs": [
    {
     "name": "stdout",
     "output_type": "stream",
     "text": [
      "5\n"
     ]
    }
   ],
   "source": [
    "ans=len('hello')\n",
    "print(ans)"
   ]
  },
  {
   "cell_type": "code",
   "execution_count": 8,
   "metadata": {},
   "outputs": [
    {
     "name": "stdout",
     "output_type": "stream",
     "text": [
      "welcome to the function\n",
      "hope you are happy\n",
      "have a nice day\n",
      "None\n"
     ]
    }
   ],
   "source": [
    "ans=greetings()\n",
    "print(ans)"
   ]
  },
  {
   "cell_type": "code",
   "execution_count": 11,
   "metadata": {},
   "outputs": [],
   "source": [
    "def random3():\n",
    "    from random import choices\n",
    "    value=list('👑👑👑👑👑👑⚡⚡⚡⚡⚡')\n",
    "    return \" \".join(choices(value, k=3))  # k is the number of elements"
   ]
  },
  {
   "cell_type": "code",
   "execution_count": 12,
   "metadata": {},
   "outputs": [
    {
     "data": {
      "text/plain": [
       "'👑 ⚡ 👑'"
      ]
     },
     "execution_count": 12,
     "metadata": {},
     "output_type": "execute_result"
    }
   ],
   "source": [
    "random3()"
   ]
  },
  {
   "cell_type": "code",
   "execution_count": 16,
   "metadata": {},
   "outputs": [],
   "source": [
    "def random3():\n",
    "    from random import choices\n",
    "    value=list('abcdefghijk')\n",
    "    return \" \".join(choices(value, k=3))  # k is the number of elements"
   ]
  },
  {
   "cell_type": "code",
   "execution_count": 17,
   "metadata": {},
   "outputs": [
    {
     "name": "stdout",
     "output_type": "stream",
     "text": [
      "k h h\n",
      "f k b\n",
      "g b e\n",
      "f f c\n",
      "g i c\n",
      "e d d\n",
      "j f h\n",
      "i b h\n",
      "e g b\n",
      "j f b\n"
     ]
    }
   ],
   "source": [
    "for i in range(10):\n",
    "    print(random3())"
   ]
  },
  {
   "cell_type": "code",
   "execution_count": 18,
   "metadata": {},
   "outputs": [
    {
     "data": {
      "text/plain": [
       "'d d e'"
      ]
     },
     "execution_count": 18,
     "metadata": {},
     "output_type": "execute_result"
    }
   ],
   "source": [
    "random3()"
   ]
  },
  {
   "cell_type": "code",
   "execution_count": 19,
   "metadata": {},
   "outputs": [
    {
     "name": "stdout",
     "output_type": "stream",
     "text": [
      "👑 👑 👑\n",
      "⚡ 👑 👑\n",
      "⚡ ⚡ 👑\n",
      "⚡ ⚡ 👑\n",
      "👑 ⚡ 👑\n",
      "⚡ 👑 ⚡\n",
      "⚡ ⚡ ⚡\n",
      "⚡ ⚡ 👑\n",
      "⚡ ⚡ ⚡\n",
      "👑 ⚡ ⚡\n"
     ]
    }
   ],
   "source": [
    "def random3():\n",
    "    from random import choices\n",
    "    value=list('👑👑👑👑👑👑⚡⚡⚡⚡⚡')\n",
    "    return \" \".join(choices(value, k=3))  # k is the number of elements\n",
    "for i in range(10):\n",
    "    print(random3())"
   ]
  },
  {
   "cell_type": "code",
   "execution_count": 22,
   "metadata": {},
   "outputs": [
    {
     "name": "stdout",
     "output_type": "stream",
     "text": [
      "d h l n i h k p i a\n",
      "j f e q q a p e q q\n",
      "l j l a m b k f k c\n",
      "i i k g a h c i a b\n",
      "j m h d j p b o b p\n",
      "q o j d q j f g n a\n",
      "p m p i f d l e q e\n",
      "k h l f j e i m e o\n",
      "e j b m k l h a i l\n",
      "b m p d k q l e c q\n"
     ]
    }
   ],
   "source": [
    "def random10():\n",
    "    from random import choices\n",
    "    value=list('abcdefghijklmnopq')\n",
    "    return \" \".join(choices(value, k=10))  # k is the number of elements\n",
    "for i in range(10):\n",
    "    print(random10())"
   ]
  },
  {
   "cell_type": "code",
   "execution_count": null,
   "metadata": {},
   "outputs": [],
   "source": []
  }
 ],
 "metadata": {
  "kernelspec": {
   "display_name": "base",
   "language": "python",
   "name": "python3"
  },
  "language_info": {
   "codemirror_mode": {
    "name": "ipython",
    "version": 3
   },
   "file_extension": ".py",
   "mimetype": "text/x-python",
   "name": "python",
   "nbconvert_exporter": "python",
   "pygments_lexer": "ipython3",
   "version": "3.10.8"
  },
  "orig_nbformat": 4,
  "vscode": {
   "interpreter": {
    "hash": "324500810f1b16834aa1bf87032153753ee365449c3fdfc2dea88bf378834d1a"
   }
  }
 },
 "nbformat": 4,
 "nbformat_minor": 2
}
