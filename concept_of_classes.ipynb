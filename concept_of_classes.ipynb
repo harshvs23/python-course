{
 "cells": [
  {
   "cell_type": "code",
   "execution_count": 1,
   "metadata": {},
   "outputs": [],
   "source": [
    "name = {'John', 'Paul', 'George', 'Robert'}"
   ]
  },
  {
   "cell_type": "code",
   "execution_count": 5,
   "metadata": {},
   "outputs": [],
   "source": [
    "students =[\n",
    "    {'name': 'John', 'age': 25, 'grade': 88},\n",
    "    {'name': 'Paul', 'age': 32, 'grade': 90},\n",
    "    {'name': 'George', 'age': 50, 'grade': 65},\n",
    "    {'name': 'Robert', 'age': 45, 'grade': 62}\n",
    "]"
   ]
  },
  {
   "cell_type": "code",
   "execution_count": 6,
   "metadata": {},
   "outputs": [
    {
     "data": {
      "text/plain": [
       "[{'name': 'John', 'age': 25, 'grade': 88},\n",
       " {'name': 'Paul', 'age': 32, 'grade': 90},\n",
       " {'name': 'George', 'age': 50, 'grade': 65},\n",
       " {'name': 'Robert', 'age': 45, 'grade': 62}]"
      ]
     },
     "execution_count": 6,
     "metadata": {},
     "output_type": "execute_result"
    }
   ],
   "source": [
    "students"
   ]
  },
  {
   "cell_type": "code",
   "execution_count": 7,
   "metadata": {},
   "outputs": [
    {
     "data": {
      "text/plain": [
       "{'name': 'John', 'age': 25, 'grade': 88}"
      ]
     },
     "execution_count": 7,
     "metadata": {},
     "output_type": "execute_result"
    }
   ],
   "source": [
    "students[0]"
   ]
  },
  {
   "attachments": {},
   "cell_type": "markdown",
   "metadata": {},
   "source": [
    " - Object Oriented Principals\n",
    "   - Encapsulation\n",
    "   - Abstraction\n",
    "   - Inheritance"
   ]
  },
  {
   "cell_type": "code",
   "execution_count": 29,
   "metadata": {},
   "outputs": [],
   "source": [
    "class Student:\n",
    "    def __init__(self, name, age, grade): # initialize dunder method\n",
    "        self.name = name\n",
    "        self.age = age \n",
    "        self.grade = grade\n",
    "\n",
    "    def __repr__(self): # represent dunder method\n",
    "        return self.name"
   ]
  },
  {
   "cell_type": "code",
   "execution_count": 30,
   "metadata": {},
   "outputs": [],
   "source": [
    "students =[\n",
    "    Student('John', 25, 88), # object creation - - passing parameters to the above given function\n",
    "    Student('Paul', 32, 90),\n",
    "    Student('George', 50, 65),\n",
    "    Student('Robert', 45, 62)\n",
    "]"
   ]
  },
  {
   "cell_type": "code",
   "execution_count": 33,
   "metadata": {},
   "outputs": [
    {
     "data": {
      "text/plain": [
       "John"
      ]
     },
     "execution_count": 33,
     "metadata": {},
     "output_type": "execute_result"
    }
   ],
   "source": [
    "students[0]"
   ]
  },
  {
   "cell_type": "code",
   "execution_count": 34,
   "metadata": {},
   "outputs": [
    {
     "data": {
      "text/plain": [
       "Paul"
      ]
     },
     "execution_count": 34,
     "metadata": {},
     "output_type": "execute_result"
    }
   ],
   "source": [
    "students[1]"
   ]
  },
  {
   "cell_type": "code",
   "execution_count": 36,
   "metadata": {},
   "outputs": [],
   "source": [
    "class Mobile:\n",
    "    def __init__(self,name, brand, price, ram, camera):\n",
    "        self.name = name\n",
    "        self.brand = brand\n",
    "        self.price = price\n",
    "        self.ram = ram\n",
    "        self.camera = camera\n",
    "\n",
    "    def __repr__(self):\n",
    "        return self.name\n",
    "    \n",
    "    def info(self):\n",
    "        print(f'Name: {self.name}')\n",
    "        print(f'Brand: {self.brand}')\n",
    "        print(f'Price: {self.price}')\n",
    "        print(f'RAM: {self.ram}')\n",
    "        print(f'Camera: {self.camera}')\n"
   ]
  },
  {
   "cell_type": "code",
   "execution_count": 37,
   "metadata": {},
   "outputs": [
    {
     "name": "stdout",
     "output_type": "stream",
     "text": [
      "[Redmi Note 9 Pro, iPhone 11, Galaxy M31]\n"
     ]
    }
   ],
   "source": [
    "m1 = Mobile('Redmi Note 9 Pro','Xiaomi',15000,'6GB', '48MP')\n",
    "m2 = Mobile('iPhone 11','Apple',80000,'4GB', '12MP')\n",
    "m3 = Mobile('Galaxy M31','Samsung',20000,'6GB', '64MP')\n",
    "mobiles = [m1, m2, m3]\n",
    "print(mobiles)"
   ]
  },
  {
   "cell_type": "code",
   "execution_count": 38,
   "metadata": {},
   "outputs": [
    {
     "name": "stdout",
     "output_type": "stream",
     "text": [
      "Redmi Note 9 Pro\n",
      "iPhone 11\n",
      "Galaxy M31\n"
     ]
    }
   ],
   "source": [
    "for item in mobiles:\n",
    "    print(item)"
   ]
  },
  {
   "cell_type": "code",
   "execution_count": 39,
   "metadata": {},
   "outputs": [
    {
     "name": "stdout",
     "output_type": "stream",
     "text": [
      "Redmi Note 9 Pro Xiaomi\n",
      "iPhone 11 Apple\n",
      "Galaxy M31 Samsung\n"
     ]
    }
   ],
   "source": [
    "for item in mobiles:\n",
    "    print(item.name, item.brand )"
   ]
  },
  {
   "cell_type": "code",
   "execution_count": 40,
   "metadata": {},
   "outputs": [
    {
     "name": "stdout",
     "output_type": "stream",
     "text": [
      "Name: Redmi Note 9 Pro\n",
      "Brand: Xiaomi\n",
      "Price: 15000\n",
      "RAM: 6GB\n",
      "Camera: 48MP\n",
      "Name: iPhone 11\n",
      "Brand: Apple\n",
      "Price: 80000\n",
      "RAM: 4GB\n",
      "Camera: 12MP\n",
      "Name: Galaxy M31\n",
      "Brand: Samsung\n",
      "Price: 20000\n",
      "RAM: 6GB\n",
      "Camera: 64MP\n"
     ]
    }
   ],
   "source": [
    "for item in mobiles:\n",
    "    item.info()"
   ]
  },
  {
   "attachments": {},
   "cell_type": "markdown",
   "metadata": {},
   "source": [
    "# Inheritance\n"
   ]
  },
  {
   "cell_type": "code",
   "execution_count": 41,
   "metadata": {},
   "outputs": [],
   "source": [
    "class Person:\n",
    "    def __init__(self, name, gender=\"female\",age=21):\n",
    "        self.name = name\n",
    "        self.age = age\n",
    "        self.gender = gender\n",
    "    \n",
    "    def __repr__(self):\n",
    "        return self.name"
   ]
  },
  {
   "cell_type": "code",
   "execution_count": 43,
   "metadata": {},
   "outputs": [
    {
     "data": {
      "text/plain": [
       "Abhishek"
      ]
     },
     "execution_count": 43,
     "metadata": {},
     "output_type": "execute_result"
    }
   ],
   "source": [
    "p1 = Person('Abhishek', age=25, gender='man')\n",
    "p1"
   ]
  },
  {
   "cell_type": "code",
   "execution_count": 46,
   "metadata": {},
   "outputs": [],
   "source": [
    "class Politician(Person): # using inheritance\n",
    "    def __init__(self, name, age, gender, pp, exp, area, designation):\n",
    "        super().__init__(name, age, gender)\n",
    "        self.party = pp\n",
    "        self.experiance = exp\n",
    "        self.area = area\n",
    "        self.designation = designation"
   ]
  },
  {
   "cell_type": "code",
   "execution_count": 47,
   "metadata": {},
   "outputs": [
    {
     "data": {
      "text/plain": [
       "Priyanshu"
      ]
     },
     "execution_count": 47,
     "metadata": {},
     "output_type": "execute_result"
    }
   ],
   "source": [
    "p2 = Politician('Priyanshu',24,'male', 'BJP', 2, 'Bihar', 'MLA')\n",
    "p2"
   ]
  },
  {
   "attachments": {},
   "cell_type": "markdown",
   "metadata": {},
   "source": [
    "# Dataclasses\n"
   ]
  },
  {
   "cell_type": "code",
   "execution_count": 48,
   "metadata": {},
   "outputs": [],
   "source": [
    "from dataclasses import dataclass\n",
    "\n",
    "@dataclass\n",
    "class Product:\n",
    "    name: str\n",
    "    price: float\n",
    "    quantity: int"
   ]
  },
  {
   "cell_type": "code",
   "execution_count": 49,
   "metadata": {},
   "outputs": [
    {
     "data": {
      "text/plain": [
       "[Product(name='Laptop', price=1000, quantity=5),\n",
       " Product(name='Mouse', price=50, quantity=10),\n",
       " Product(name='Keyboard', price=100, quantity=8)]"
      ]
     },
     "execution_count": 49,
     "metadata": {},
     "output_type": "execute_result"
    }
   ],
   "source": [
    "products =[\n",
    "    Product('Laptop', 1000, 5),\n",
    "    Product('Mouse', 50, 10),\n",
    "    Product('Keyboard', 100, 8)\n",
    "]\n",
    "products"
   ]
  },
  {
   "cell_type": "code",
   "execution_count": 50,
   "metadata": {},
   "outputs": [],
   "source": [
    "@dataclass\n",
    "class Polygon:\n",
    "    sides: int\n",
    "    length: float\n",
    "\n",
    "    def perimeter(self):\n",
    "        return self.sides * self.length"
   ]
  },
  {
   "cell_type": "code",
   "execution_count": 51,
   "metadata": {},
   "outputs": [
    {
     "name": "stdout",
     "output_type": "stream",
     "text": [
      "20\n",
      "30\n"
     ]
    }
   ],
   "source": [
    "p = Polygon(4, 5)\n",
    "p2 = Polygon(3, 10)\n",
    "print(p.perimeter())\n",
    "print(p2.perimeter())"
   ]
  },
  {
   "cell_type": "code",
   "execution_count": 52,
   "metadata": {},
   "outputs": [],
   "source": [
    "x=[1, 2, 3, 4, 5]\n",
    "y=[2, 4, 6, 8, 10]"
   ]
  },
  {
   "cell_type": "code",
   "execution_count": 53,
   "metadata": {},
   "outputs": [],
   "source": [
    "class Slist(list):\n",
    "    def sum(self):\n",
    "        return sum(self)\n",
    "    \n",
    "    def mean(self):\n",
    "        return sum(self) / len(self)"
   ]
  },
  {
   "cell_type": "code",
   "execution_count": 54,
   "metadata": {},
   "outputs": [
    {
     "name": "stdout",
     "output_type": "stream",
     "text": [
      "15\n",
      "115\n",
      "19.166666666666668\n"
     ]
    }
   ],
   "source": [
    "x = Slist([1, 2, 3, 4, 5])\n",
    "y = Slist([2, 4, 6, 8, 10])\n",
    "\n",
    "print(x.sum())\n",
    "x.append(100)\n",
    "print(x.sum())\n",
    "print(x.mean())"
   ]
  },
  {
   "cell_type": "code",
   "execution_count": null,
   "metadata": {},
   "outputs": [],
   "source": []
  }
 ],
 "metadata": {
  "kernelspec": {
   "display_name": "base",
   "language": "python",
   "name": "python3"
  },
  "language_info": {
   "codemirror_mode": {
    "name": "ipython",
    "version": 3
   },
   "file_extension": ".py",
   "mimetype": "text/x-python",
   "name": "python",
   "nbconvert_exporter": "python",
   "pygments_lexer": "ipython3",
   "version": "3.10.8"
  },
  "orig_nbformat": 4
 },
 "nbformat": 4,
 "nbformat_minor": 2
}
