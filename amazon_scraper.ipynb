{
 "cells": [
  {
   "cell_type": "code",
   "execution_count": 11,
   "metadata": {},
   "outputs": [],
   "source": [
    "from dputils.scrape import Scraper, Tag"
   ]
  },
  {
   "cell_type": "code",
   "execution_count": 12,
   "metadata": {},
   "outputs": [
    {
     "data": {
      "text/plain": [
       "<title>Amazon.in : phones</title>"
      ]
     },
     "execution_count": 12,
     "metadata": {},
     "output_type": "execute_result"
    }
   ],
   "source": [
    "page = 1\n",
    "query = 'phones'\n",
    "webpage = Scraper(f'https://www.amazon.in/s?k={query}&page={page}')\n",
    "webpage.soup.title\n"
   ]
  },
  {
   "cell_type": "code",
   "execution_count": 15,
   "metadata": {},
   "outputs": [
    {
     "data": {
      "text/plain": [
       "[{'name': None, 'price': None},\n",
       " {'name': None, 'price': None},\n",
       " {'name': 'Apple iPhone 13 (128GB) - Blue  ', 'price': '61,999'},\n",
       " {'name': 'Apple iPhone 13 Mini (128GB) - Midnight  ', 'price': '64,900'},\n",
       " {'name': 'Nokia C12 Android 12 (Go Edition) Smartphone, All-Day Battery, 4GB RAM (2GB RAM + 2GB Virtual RAM) + 64GB Capacity | Light Mint  ',\n",
       "  'price': '5,999'},\n",
       " {'name': 'OPPO A74 5G (Fantastic Purple,6GB RAM,128GB Storage) with No Cost EMI/Additional Exchange Offers  ',\n",
       "  'price': '15,740'},\n",
       " {'name': 'Redmi Note 12 5G Mystique Blue 6GB RAM 128GB ROM | 1st Phone with 120Hz Super AMOLED and Snapdragon® 4 Gen 1 | 48MP AI Triple Camera  ',\n",
       "  'price': '19,999'},\n",
       " {'name': 'Samsung Galaxy S20 FE 5G (Cloud Mint, 8GB RAM, 128GB Storage)  ',\n",
       "  'price': '34,999'},\n",
       " {'name': None, 'price': None},\n",
       " {'name': 'Redmi Note 12 5G Matte Black 6GB RAM 128GB ROM | 1st Phone with 120Hz Super AMOLED and Snapdragon® 4 Gen 1 | 48MP AI Triple Camera  ',\n",
       "  'price': '19,999'},\n",
       " {'name': 'Redmi 9A Sport (Coral Green, 2GB RAM, 32GB Storage) | 2GHz Octa-core Helio G25 Processor | 5000 mAh Battery  ',\n",
       "  'price': '6,499'},\n",
       " {'name': 'Redmi Note 11T 5G (Stardust White, 8GB RAM, 128GB ROM) | Dimensity 810 5G | 33W Pro Fast Charging | Charger Included | Additional Exchange Offers| Get 2 Months of YouTube Premium Free!  ',\n",
       "  'price': '18,499'},\n",
       " {'name': 'Nokia 2660 Flip 4G Volte keypad Phone with Dual SIM, Dual Screen, inbuilt MP3 Player & Wireless FM Radio | Black  ',\n",
       "  'price': '4,499'},\n",
       " {'name': 'Samsung Galaxy M04 Dark Blue, 4GB RAM, 64GB Storage | Upto 8GB RAM with RAM Plus | MediaTek Helio P35 | 5000 mAh Battery  ',\n",
       "  'price': '7,499'},\n",
       " {'name': 'Apple iPhone 14 Pro (1 TB) - Gold  ', 'price': '1,73,099'},\n",
       " {'name': 'Apple iPhone 14 Pro Max (1 TB) - Gold  ', 'price': '1,89,900'},\n",
       " {'name': 'OnePlus 11 5G (Titan Black, 8GB RAM, 128GB Storage)  ',\n",
       "  'price': '56,999'},\n",
       " {'name': None, 'price': None},\n",
       " {'name': 'JioFi Jio Phone Next 32 GB ROM, 2 GB RAM, Blue, Smartphone  ',\n",
       "  'price': None},\n",
       " {'name': 'Nothing Phone (1) 5G (White, 256 GB) (8 GB RAM)  ', 'price': None},\n",
       " {'name': 'Samsung Galaxy M13 (Aqua Green, 4GB, 64GB Storage) | 6000mAh Battery | Upto 8GB RAM with RAM Plus  ',\n",
       "  'price': '10,999'},\n",
       " {'name': 'Oppo A78 5G (Glowing Black, 8GB RAM, 128 Storage) | 5000 mAh Battery with 33W SUPERVOOC Charger| 50MP AI Camera | 90Hz Refresh Rate | with No Cost EMI/Additional Exchange Offers  ',\n",
       "  'price': '18,999'},\n",
       " {'name': 'Redmi 10 Power (Sporty Orange, 8GB RAM, 128GB Storage)  ',\n",
       "  'price': '10,999'},\n",
       " {'name': 'Redmi Note 11 (Space Black, 4GB RAM, 64GB Storage)|90Hz FHD+ AMOLED Display | Qualcomm® Snapdragon™ 680-6nm | 33W Charger Included  ',\n",
       "  'price': '12,999'},\n",
       " {'name': 'OPPO A15s (Fancy White, 4GB, 128GB Storage) AI Triple Camera | 6.52\" HD+ Screen | 2.3GHz Mediatek Helio P35 Octa Core Processor  ',\n",
       "  'price': '11,490'},\n",
       " {'name': 'OnePlus 11 5G (Eternal Green, 8GB RAM, 128GB Storage)  ',\n",
       "  'price': '56,999'},\n",
       " {'name': 'Apple iPhone SE (64 GB) - Starlight (3rd Generation)  ',\n",
       "  'price': '49,900'},\n",
       " {'name': 'OPPO A74 5G (Fantastic Purple,6GB RAM,128GB Storage) with No Cost EMI/Additional Exchange Offers  ',\n",
       "  'price': '15,740'},\n",
       " {'name': 'OPPO A74 5G (Fantastic Purple,6GB RAM,128GB Storage) with No Cost EMI/Additional Exchange Offers  ',\n",
       "  'price': '15,740'},\n",
       " {'name': 'Redmi 9A Sport (Coral Green, 2GB RAM, 32GB Storage) | 2GHz Octa-core Helio G25 Processor | 5000 mAh Battery  ',\n",
       "  'price': '6,499'},\n",
       " {'name': 'Motorola a10 Dual Sim keypad Mobile with 1750 mAh Battery, Expandable Storage Upto 32GB, Wireless FM with Recording - Rose Gold  ',\n",
       "  'price': '1,399'},\n",
       " {'name': 'Redmi 10A (Charcoal Black, 4GB RAM, 64GB Storage) | 2 Ghz Octa Core Helio G25 | 5000 mAh Battery | Finger Print Sensor | Upto 5GB RAM with RAM Booster  ',\n",
       "  'price': '8,799'},\n",
       " {'name': 'WeCool C1 Car Mobile Holder with One Click Technology,360° Rotational, Strong Suction Cup,Compatible with 4 to 6 Inch Devices, Wildshield and Dashboard Mobile Holder for Car, and Use, ABS  ',\n",
       "  'price': '499'},\n",
       " {'name': 'Amkette iGrip Telescopic One Touch Car Mount for Dashboard and Windshield | Universal Compatibility | Telescopic Adjustable Arm | Adjustable Bottom Foot | Re-usable Suction Gel | Pivots Upto 230 Degree | Durable Design | Drive Assist Companion App | (Black)  ',\n",
       "  'price': '999'},\n",
       " {'name': 'Portronics Clamp M2 Adjustable Car Mobile Phone Holder Stand, 360° Rotational, Strong Suction Cup, Compatible with 4 to 6 inch Devices(Black)  ',\n",
       "  'price': '289'},\n",
       " {'name': 'Tukzer Universal Car Mount Mobile Holder Stand| Strong Suction Cup, Double Shift Locking for Dashboard Windshield| Quick Touch Release, Long Telescopic Arm, 360° Rotatable Head| for All Mobile Phones,Black  ',\n",
       "  'price': '499'},\n",
       " {'name': None, 'price': None},\n",
       " {'name': None, 'price': None},\n",
       " {'name': None, 'price': None}]"
      ]
     },
     "execution_count": 15,
     "metadata": {},
     "output_type": "execute_result"
    }
   ],
   "source": [
    "target = Tag(cls='s-main-slot s-result-list s-search-results sg-row')\n",
    "items = Tag(cls='s-result-item')\n",
    "title = Tag('h2')\n",
    "price = Tag('span',cls='a-price-whole')\n",
    "rating = Tag()\n",
    "webpage.get_all(target, items, name= title, price = price)"
   ]
  },
  {
   "cell_type": "code",
   "execution_count": null,
   "metadata": {},
   "outputs": [],
   "source": []
  },
  {
   "cell_type": "code",
   "execution_count": null,
   "metadata": {},
   "outputs": [],
   "source": []
  }
 ],
 "metadata": {
  "kernelspec": {
   "display_name": "base",
   "language": "python",
   "name": "python3"
  },
  "language_info": {
   "codemirror_mode": {
    "name": "ipython",
    "version": 3
   },
   "file_extension": ".py",
   "mimetype": "text/x-python",
   "name": "python",
   "nbconvert_exporter": "python",
   "pygments_lexer": "ipython3",
   "version": "3.10.8"
  },
  "orig_nbformat": 4
 },
 "nbformat": 4,
 "nbformat_minor": 2
}
